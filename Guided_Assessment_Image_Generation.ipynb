{
  "nbformat": 4,
  "nbformat_minor": 0,
  "metadata": {
    "colab": {
      "provenance": []
    },
    "kernelspec": {
      "name": "python3",
      "display_name": "Python 3"
    },
    "language_info": {
      "name": "python"
    }
  },
  "cells": [
    {
      "cell_type": "markdown",
      "source": [
        "#Assessment for Generative AI for Image Generation"
      ],
      "metadata": {
        "id": "oeISiGmFYSIJ"
      }
    },
    {
      "cell_type": "markdown",
      "source": [
        "###Date:\n",
        "###Name:\n",
        "###NRIC (Last 3 digits and alphabet):\n",
        "\n",
        "###*Submit the completed notebook to the instructor.*"
      ],
      "metadata": {
        "id": "T3Qt4Zc5arB2"
      }
    },
    {
      "cell_type": "markdown",
      "source": [
        "## Task: Complete the notebook \"_____\" to integrate prompt generation (OpenAI API) with image generation (Stability API)\n",
        "\n",
        "## Instruction\n",
        "- Generate Prompt using OpenAI Chat API\n",
        "    - Upload prompt_gen.txt and negtive_prompt.txt\n",
        "    - read system_message from prompt_gen.txt\n",
        "    - read negative_prompt from negative_prompt.txt\n",
        "    - request user_message using input(\"Your request:\")\n",
        "    - call OpenAI api to generate prompt with Temperature=0.5 and max_tokens=150\n",
        "- Generate Image using SD Core model with below parameters\n",
        "    - aspect_ratio = \"3:2\"\n",
        "    - seed = 0\n",
        "    - output_format = \"png\"\n",
        "- At the end, your program should be able to generate a high-quality image by requesting a few key words from end user"
      ],
      "metadata": {
        "id": "nEGu5eFZYiVs"
      }
    },
    {
      "cell_type": "code",
      "source": [
        "!pip install python-dotenv"
      ],
      "metadata": {
        "id": "eCXfN4BuYyBM"
      },
      "execution_count": null,
      "outputs": []
    },
    {
      "cell_type": "code",
      "source": [
        "import os\n",
        "from dotenv import load_dotenv\n",
        "\n",
        "load_dotenv()\n",
        "openai_api_key  = os.environ[\"OPENAI_API_KEY\"]\n",
        "sd_api_key = os.environ[\"STABILITY_API_KEY\"]"
      ],
      "metadata": {
        "id": "IrlF526wY0Uo"
      },
      "execution_count": null,
      "outputs": []
    },
    {
      "cell_type": "code",
      "source": [
        "!pip install openai"
      ],
      "metadata": {
        "id": "8_UTYIIHeRtv"
      },
      "execution_count": null,
      "outputs": []
    },
    {
      "cell_type": "code",
      "execution_count": null,
      "metadata": {
        "id": "LMD_2JkFYOnF"
      },
      "outputs": [],
      "source": [
        "import openai\n",
        "client = openai.OpenAI()"
      ]
    },
    {
      "cell_type": "code",
      "source": [
        "import IPython\n",
        "import json\n",
        "from google.colab import output\n",
        "import requests\n",
        "from PIL import Image"
      ],
      "metadata": {
        "id": "thFnUTElfZ9X"
      },
      "execution_count": null,
      "outputs": []
    },
    {
      "cell_type": "code",
      "source": [
        "# Define functions to call API service\n",
        "def send_generation_request(host, params,):\n",
        "    headers = {\n",
        "        \"Accept\": \"image/*\",\n",
        "        \"Authorization\": f\"Bearer {sd_api_key}\"\n",
        "    }\n",
        "\n",
        "    # Encode parameters\n",
        "    files = {}\n",
        "    image = params.pop(\"image\", None)\n",
        "    mask = params.pop(\"mask\", None)\n",
        "    if image is not None and image != '':\n",
        "        files[\"image\"] = open(image, 'rb')\n",
        "    if mask is not None and mask != '':\n",
        "        files[\"mask\"] = open(mask, 'rb')\n",
        "    if len(files)==0:\n",
        "        files[\"none\"] = ''\n",
        "\n",
        "    # Send request\n",
        "    print(f\"Sending REST request to {host}...\")\n",
        "    response = requests.post(\n",
        "        host,\n",
        "        headers=headers,\n",
        "        files=files,\n",
        "        data=params\n",
        "    )\n",
        "    if not response.ok:\n",
        "        raise Exception(f\"HTTP {response.status_code}: {response.text}\")\n",
        "\n",
        "    return response"
      ],
      "metadata": {
        "id": "XkVcf5FrfOOR"
      },
      "execution_count": null,
      "outputs": []
    },
    {
      "cell_type": "code",
      "source": [
        "# Generate prompt\n",
        "\n",
        "# In the prompt_gen.txt, there is a prompt template to generate a high-quality image prompt from given key words.\n",
        "f = open(\"instruct_prompt.txt\", \"r\")\n",
        "system_message = f.read()\n",
        "f.close()\n",
        "\n",
        "# In the negtive_prompt.txt, common descriptions of negtive prompt are provided to generate a high-quality image.\n",
        "f = open(\"negtive_prompt.txt\", \"r\")\n",
        "negative_prompt = f.read()\n",
        "f.close()\n",
        "\n",
        "user_message = input(\"Your request (key words):\")  # for example: \"playground, dog, soccer, trees, sunset\"\n",
        "\n",
        "response = client.chat.completions.create(\n",
        "    model=\"gpt-4o\" #\"gpt-3.5-turbo\",\n",
        "    messages=[\n",
        "        {\"role\": \"system\", \"content\": _________},\n",
        "        {\"role\": \"user\", \"content\": _________}\n",
        "    ],\n",
        "    temperature= ___,   #0:precise  1:createive\n",
        "    max_tokens=150,\n",
        ")\n",
        "\n",
        "prompt = response.choices[0].message.content\n",
        "print(prompt)\n",
        "\n",
        "\n",
        "# Generate Image using SD Core model\n",
        "aspect_ratio = ____\n",
        "seed = 0\n",
        "output_format = \"png\"\n",
        "\n",
        "host = f\"https://api.stability.ai/v2beta/stable-image/generate/core\"\n",
        "\n",
        "params = {\n",
        "    \"prompt\" : _______,\n",
        "    \"negative_prompt\" : ___________,\n",
        "    \"aspect_ratio\" : ________+,\n",
        "    \"seed\" : seed,\n",
        "    \"output_format\": output_format,\n",
        "    \"mode\" : \"text-to-image\"\n",
        "}\n",
        "\n",
        "response = send_generation_request(\n",
        "    host,\n",
        "    params\n",
        ")\n",
        "\n",
        "# Decode response\n",
        "output_image = response.content\n",
        "finish_reason = response.headers.get(\"finish-reason\")\n",
        "seed = response.headers.get(\"seed\")\n",
        "\n",
        "# Check for NSFW classification\n",
        "if finish_reason == 'CONTENT_FILTERED':\n",
        "    raise Warning(\"Generation failed NSFW classifier\")\n",
        "\n",
        "# Save and display result\n",
        "generated = f\"generated_{seed}.{output_format}\"\n",
        "with open(generated, \"wb\") as f:\n",
        "    f.write(output_image)\n",
        "print(f\"Saved image {generated}\")\n",
        "\n",
        "# Display Image\n",
        "output.no_vertical_scroll()\n",
        "print(\"Result image:\")\n",
        "IPython.display.display(Image.open(generated))"
      ],
      "metadata": {
        "id": "sayiF7mlZFpb"
      },
      "execution_count": null,
      "outputs": []
    }
  ]
}